{
 "cells": [
  {
   "cell_type": "code",
   "execution_count": 1921,
   "metadata": {
    "pycharm": {
     "name": "#%%\n"
    }
   },
   "outputs": [],
   "source": [
    "import pandas as pd\n",
    "import numpy as np\n",
    "import seaborn as sns\n",
    "from sklearn import preprocessing \n",
    "from sklearn.preprocessing import LabelEncoder\n",
    "from sklearn.preprocessing import MinMaxScaler\n",
    "import matplotlib.pyplot as plt\n",
    "from sklearn.metrics import mean_squared_error\n",
    "from sklearn.model_selection import train_test_split\n",
    "from sklearn.tree import DecisionTreeClassifier\n",
    "from sklearn.linear_model import LogisticRegression\n",
    "from sklearn.ensemble import RandomForestClassifier\n",
    "from sklearn.metrics import accuracy_score\n",
    "from sklearn.metrics import mean_absolute_error\n",
    "import xgboost as xgb\n",
    "import lightgbm as lgb\n",
    "from lightgbm import LGBMClassifier\n",
    "from sklearn.neighbors import KNeighborsClassifier\n",
    "from sklearn.naive_bayes import GaussianNB \n",
    "from sklearn import svm\n",
    "from sklearn.ensemble import AdaBoostClassifier\n",
    "from imblearn.over_sampling import RandomOverSampler \n",
    "from sklearn.metrics import confusion_matrix, accuracy_score\n",
    "from sklearn.preprocessing import StandardScaler\n",
    "import warnings\n",
    "warnings.filterwarnings('ignore')"
   ]
  },
  {
   "attachments": {},
   "cell_type": "markdown",
   "metadata": {},
   "source": [
    "Discover Data"
   ]
  },
  {
   "cell_type": "code",
   "execution_count": 1922,
   "metadata": {
    "pycharm": {
     "name": "#%%\n"
    }
   },
   "outputs": [
    {
     "data": {
      "text/html": [
       "<div>\n",
       "<style scoped>\n",
       "    .dataframe tbody tr th:only-of-type {\n",
       "        vertical-align: middle;\n",
       "    }\n",
       "\n",
       "    .dataframe tbody tr th {\n",
       "        vertical-align: top;\n",
       "    }\n",
       "\n",
       "    .dataframe thead th {\n",
       "        text-align: right;\n",
       "    }\n",
       "</style>\n",
       "<table border=\"1\" class=\"dataframe\">\n",
       "  <thead>\n",
       "    <tr style=\"text-align: right;\">\n",
       "      <th></th>\n",
       "      <th>age</th>\n",
       "      <th>work-class</th>\n",
       "      <th>work-fnl</th>\n",
       "      <th>education</th>\n",
       "      <th>education-num</th>\n",
       "      <th>marital-status</th>\n",
       "      <th>position</th>\n",
       "      <th>relationship</th>\n",
       "      <th>race</th>\n",
       "      <th>sex</th>\n",
       "      <th>capital-gain</th>\n",
       "      <th>capital-loss</th>\n",
       "      <th>hours-per-week</th>\n",
       "      <th>native-country</th>\n",
       "      <th>salary</th>\n",
       "    </tr>\n",
       "  </thead>\n",
       "  <tbody>\n",
       "    <tr>\n",
       "      <th>0</th>\n",
       "      <td>39</td>\n",
       "      <td>State-gov</td>\n",
       "      <td>77516</td>\n",
       "      <td>Bachelors</td>\n",
       "      <td>13</td>\n",
       "      <td>Never-married</td>\n",
       "      <td>Adm-clerical</td>\n",
       "      <td>Not-in-family</td>\n",
       "      <td>White</td>\n",
       "      <td>Male</td>\n",
       "      <td>2174</td>\n",
       "      <td>0</td>\n",
       "      <td>40</td>\n",
       "      <td>United-States</td>\n",
       "      <td>&lt;=50K</td>\n",
       "    </tr>\n",
       "    <tr>\n",
       "      <th>1</th>\n",
       "      <td>50</td>\n",
       "      <td>Self-emp-not-inc</td>\n",
       "      <td>83311</td>\n",
       "      <td>Bachelors</td>\n",
       "      <td>13</td>\n",
       "      <td>Married-civ-spouse</td>\n",
       "      <td>Exec-managerial</td>\n",
       "      <td>Husband</td>\n",
       "      <td>White</td>\n",
       "      <td>Male</td>\n",
       "      <td>0</td>\n",
       "      <td>0</td>\n",
       "      <td>13</td>\n",
       "      <td>United-States</td>\n",
       "      <td>&lt;=50K</td>\n",
       "    </tr>\n",
       "    <tr>\n",
       "      <th>2</th>\n",
       "      <td>38</td>\n",
       "      <td>Private</td>\n",
       "      <td>215646</td>\n",
       "      <td>HS-grad</td>\n",
       "      <td>9</td>\n",
       "      <td>Divorced</td>\n",
       "      <td>Handlers-cleaners</td>\n",
       "      <td>Not-in-family</td>\n",
       "      <td>White</td>\n",
       "      <td>Male</td>\n",
       "      <td>0</td>\n",
       "      <td>0</td>\n",
       "      <td>40</td>\n",
       "      <td>United-States</td>\n",
       "      <td>&lt;=50K</td>\n",
       "    </tr>\n",
       "    <tr>\n",
       "      <th>3</th>\n",
       "      <td>53</td>\n",
       "      <td>Private</td>\n",
       "      <td>234721</td>\n",
       "      <td>11th</td>\n",
       "      <td>7</td>\n",
       "      <td>Married-civ-spouse</td>\n",
       "      <td>Handlers-cleaners</td>\n",
       "      <td>Husband</td>\n",
       "      <td>Black</td>\n",
       "      <td>Male</td>\n",
       "      <td>0</td>\n",
       "      <td>0</td>\n",
       "      <td>40</td>\n",
       "      <td>United-States</td>\n",
       "      <td>&lt;=50K</td>\n",
       "    </tr>\n",
       "    <tr>\n",
       "      <th>4</th>\n",
       "      <td>28</td>\n",
       "      <td>Private</td>\n",
       "      <td>338409</td>\n",
       "      <td>Bachelors</td>\n",
       "      <td>13</td>\n",
       "      <td>Married-civ-spouse</td>\n",
       "      <td>Prof-specialty</td>\n",
       "      <td>Wife</td>\n",
       "      <td>Black</td>\n",
       "      <td>Female</td>\n",
       "      <td>0</td>\n",
       "      <td>0</td>\n",
       "      <td>40</td>\n",
       "      <td>Cuba</td>\n",
       "      <td>&lt;=50K</td>\n",
       "    </tr>\n",
       "  </tbody>\n",
       "</table>\n",
       "</div>"
      ],
      "text/plain": [
       "   age         work-class  work-fnl   education  education-num  \\\n",
       "0   39          State-gov     77516   Bachelors             13   \n",
       "1   50   Self-emp-not-inc     83311   Bachelors             13   \n",
       "2   38            Private    215646     HS-grad              9   \n",
       "3   53            Private    234721        11th              7   \n",
       "4   28            Private    338409   Bachelors             13   \n",
       "\n",
       "        marital-status            position    relationship    race      sex  \\\n",
       "0        Never-married        Adm-clerical   Not-in-family   White     Male   \n",
       "1   Married-civ-spouse     Exec-managerial         Husband   White     Male   \n",
       "2             Divorced   Handlers-cleaners   Not-in-family   White     Male   \n",
       "3   Married-civ-spouse   Handlers-cleaners         Husband   Black     Male   \n",
       "4   Married-civ-spouse      Prof-specialty            Wife   Black   Female   \n",
       "\n",
       "   capital-gain  capital-loss  hours-per-week  native-country  salary  \n",
       "0          2174             0              40   United-States   <=50K  \n",
       "1             0             0              13   United-States   <=50K  \n",
       "2             0             0              40   United-States   <=50K  \n",
       "3             0             0              40   United-States   <=50K  \n",
       "4             0             0              40            Cuba   <=50K  "
      ]
     },
     "execution_count": 1922,
     "metadata": {},
     "output_type": "execute_result"
    }
   ],
   "source": [
    "df=pd.read_csv('train.csv')\n",
    "df.head()"
   ]
  },
  {
   "attachments": {},
   "cell_type": "markdown",
   "metadata": {},
   "source": [
    "Checking all data for '?'"
   ]
  },
  {
   "cell_type": "code",
   "execution_count": 1923,
   "metadata": {
    "pycharm": {
     "name": "#%%\n"
    }
   },
   "outputs": [
    {
     "data": {
      "text/plain": [
       "age                  0\n",
       "work-class        1275\n",
       "work-fnl             0\n",
       "education            0\n",
       "education-num        0\n",
       "marital-status       0\n",
       "position          1279\n",
       "relationship         0\n",
       "race                 0\n",
       "sex                  0\n",
       "capital-gain         0\n",
       "capital-loss         0\n",
       "hours-per-week       0\n",
       "native-country     409\n",
       "salary               0\n",
       "dtype: int64"
      ]
     },
     "execution_count": 1923,
     "metadata": {},
     "output_type": "execute_result"
    }
   ],
   "source": [
    "df.isin([' ?']).sum()"
   ]
  },
  {
   "attachments": {},
   "cell_type": "markdown",
   "metadata": {},
   "source": [
    "Repalce all '?' with NULL to deal with it laterly"
   ]
  },
  {
   "cell_type": "code",
   "execution_count": 1924,
   "metadata": {
    "pycharm": {
     "name": "#%%\n"
    }
   },
   "outputs": [],
   "source": [
    "df=df.replace(' ?',np.nan)"
   ]
  },
  {
   "attachments": {},
   "cell_type": "markdown",
   "metadata": {},
   "source": [
    "Understanding the data more"
   ]
  },
  {
   "cell_type": "code",
   "execution_count": 1925,
   "metadata": {},
   "outputs": [
    {
     "name": "stdout",
     "output_type": "stream",
     "text": [
      "<class 'pandas.core.frame.DataFrame'>\n",
      "RangeIndex: 22792 entries, 0 to 22791\n",
      "Data columns (total 15 columns):\n",
      " #   Column          Non-Null Count  Dtype \n",
      "---  ------          --------------  ----- \n",
      " 0   age             22792 non-null  int64 \n",
      " 1   work-class      21517 non-null  object\n",
      " 2   work-fnl        22792 non-null  int64 \n",
      " 3   education       22792 non-null  object\n",
      " 4   education-num   22792 non-null  int64 \n",
      " 5   marital-status  22792 non-null  object\n",
      " 6   position        21513 non-null  object\n",
      " 7   relationship    22792 non-null  object\n",
      " 8   race            22792 non-null  object\n",
      " 9   sex             22792 non-null  object\n",
      " 10  capital-gain    22792 non-null  int64 \n",
      " 11  capital-loss    22792 non-null  int64 \n",
      " 12  hours-per-week  22792 non-null  int64 \n",
      " 13  native-country  22383 non-null  object\n",
      " 14  salary          22792 non-null  object\n",
      "dtypes: int64(6), object(9)\n",
      "memory usage: 2.6+ MB\n"
     ]
    }
   ],
   "source": [
    "df.info()"
   ]
  },
  {
   "attachments": {},
   "cell_type": "markdown",
   "metadata": {},
   "source": [
    "Checking NULL values"
   ]
  },
  {
   "cell_type": "code",
   "execution_count": 1926,
   "metadata": {
    "pycharm": {
     "name": "#%%\n"
    }
   },
   "outputs": [
    {
     "data": {
      "text/plain": [
       "age                  0\n",
       "work-class        1275\n",
       "work-fnl             0\n",
       "education            0\n",
       "education-num        0\n",
       "marital-status       0\n",
       "position          1279\n",
       "relationship         0\n",
       "race                 0\n",
       "sex                  0\n",
       "capital-gain         0\n",
       "capital-loss         0\n",
       "hours-per-week       0\n",
       "native-country     409\n",
       "salary               0\n",
       "dtype: int64"
      ]
     },
     "execution_count": 1926,
     "metadata": {},
     "output_type": "execute_result"
    }
   ],
   "source": [
    "df.isnull().sum()"
   ]
  },
  {
   "attachments": {},
   "cell_type": "markdown",
   "metadata": {},
   "source": [
    "Dealing with NULL values by replacing them with the mode of each column"
   ]
  },
  {
   "cell_type": "code",
   "execution_count": 1927,
   "metadata": {
    "pycharm": {
     "name": "#%%\n"
    }
   },
   "outputs": [],
   "source": [
    "df['native-country'] = df['native-country'].fillna('United-States')\n",
    "df['work-class'] = df['work-class'].fillna('Private')\n",
    "df['position'] = df['position'].fillna('Prof-specialty')"
   ]
  },
  {
   "attachments": {},
   "cell_type": "markdown",
   "metadata": {},
   "source": [
    "Making sure there are no NULL values anymore"
   ]
  },
  {
   "cell_type": "code",
   "execution_count": 1928,
   "metadata": {
    "pycharm": {
     "name": "#%%\n"
    }
   },
   "outputs": [
    {
     "data": {
      "text/plain": [
       "age               0\n",
       "work-class        0\n",
       "work-fnl          0\n",
       "education         0\n",
       "education-num     0\n",
       "marital-status    0\n",
       "position          0\n",
       "relationship      0\n",
       "race              0\n",
       "sex               0\n",
       "capital-gain      0\n",
       "capital-loss      0\n",
       "hours-per-week    0\n",
       "native-country    0\n",
       "salary            0\n",
       "dtype: int64"
      ]
     },
     "execution_count": 1928,
     "metadata": {},
     "output_type": "execute_result"
    }
   ],
   "source": [
    "df.isnull().sum()"
   ]
  },
  {
   "attachments": {},
   "cell_type": "markdown",
   "metadata": {},
   "source": [
    "Mapping binary values to the expected output"
   ]
  },
  {
   "cell_type": "code",
   "execution_count": 1929,
   "metadata": {
    "pycharm": {
     "name": "#%%\n"
    }
   },
   "outputs": [
    {
     "data": {
      "text/plain": [
       "array([0, 1], dtype=int64)"
      ]
     },
     "execution_count": 1929,
     "metadata": {},
     "output_type": "execute_result"
    }
   ],
   "source": [
    "df['salary']=df['salary'].map({' <=50K': 0, ' >50K': 1})\n",
    "df['salary'].unique()"
   ]
  },
  {
   "cell_type": "code",
   "execution_count": 1930,
   "metadata": {},
   "outputs": [
    {
     "data": {
      "text/html": [
       "<style type=\"text/css\">\n",
       "#T_82069_row0_col0, #T_82069_row1_col1, #T_82069_row2_col2, #T_82069_row3_col3, #T_82069_row4_col4, #T_82069_row5_col5, #T_82069_row6_col6 {\n",
       "  background-color: #08306b;\n",
       "  color: #f1f1f1;\n",
       "}\n",
       "#T_82069_row0_col1, #T_82069_row1_col0, #T_82069_row1_col2, #T_82069_row1_col5, #T_82069_row1_col6, #T_82069_row3_col4, #T_82069_row4_col3 {\n",
       "  background-color: #f7fbff;\n",
       "  color: #000000;\n",
       "}\n",
       "#T_82069_row0_col2, #T_82069_row4_col5 {\n",
       "  background-color: #eaf2fb;\n",
       "  color: #000000;\n",
       "}\n",
       "#T_82069_row0_col3, #T_82069_row2_col4, #T_82069_row5_col3 {\n",
       "  background-color: #e3eef8;\n",
       "  color: #000000;\n",
       "}\n",
       "#T_82069_row0_col4 {\n",
       "  background-color: #e7f1fa;\n",
       "  color: #000000;\n",
       "}\n",
       "#T_82069_row0_col5, #T_82069_row3_col1 {\n",
       "  background-color: #e9f2fa;\n",
       "  color: #000000;\n",
       "}\n",
       "#T_82069_row0_col6 {\n",
       "  background-color: #c9ddf0;\n",
       "  color: #000000;\n",
       "}\n",
       "#T_82069_row1_col3, #T_82069_row2_col1 {\n",
       "  background-color: #f1f7fd;\n",
       "  color: #000000;\n",
       "}\n",
       "#T_82069_row1_col4 {\n",
       "  background-color: #f5f9fe;\n",
       "  color: #000000;\n",
       "}\n",
       "#T_82069_row2_col0 {\n",
       "  background-color: #e3eef9;\n",
       "  color: #000000;\n",
       "}\n",
       "#T_82069_row2_col3, #T_82069_row3_col0 {\n",
       "  background-color: #dbe9f6;\n",
       "  color: #000000;\n",
       "}\n",
       "#T_82069_row2_col5, #T_82069_row3_col2, #T_82069_row4_col6 {\n",
       "  background-color: #d9e7f5;\n",
       "  color: #000000;\n",
       "}\n",
       "#T_82069_row2_col6 {\n",
       "  background-color: #aacfe5;\n",
       "  color: #000000;\n",
       "}\n",
       "#T_82069_row3_col5 {\n",
       "  background-color: #e6f0f9;\n",
       "  color: #000000;\n",
       "}\n",
       "#T_82069_row3_col6 {\n",
       "  background-color: #cadef0;\n",
       "  color: #000000;\n",
       "}\n",
       "#T_82069_row4_col0 {\n",
       "  background-color: #dfecf7;\n",
       "  color: #000000;\n",
       "}\n",
       "#T_82069_row4_col1 {\n",
       "  background-color: #edf4fc;\n",
       "  color: #000000;\n",
       "}\n",
       "#T_82069_row4_col2 {\n",
       "  background-color: #e0ecf8;\n",
       "  color: #000000;\n",
       "}\n",
       "#T_82069_row5_col0 {\n",
       "  background-color: #deebf7;\n",
       "  color: #000000;\n",
       "}\n",
       "#T_82069_row5_col1 {\n",
       "  background-color: #ecf4fb;\n",
       "  color: #000000;\n",
       "}\n",
       "#T_82069_row5_col2 {\n",
       "  background-color: #d4e4f4;\n",
       "  color: #000000;\n",
       "}\n",
       "#T_82069_row5_col4 {\n",
       "  background-color: #e7f0fa;\n",
       "  color: #000000;\n",
       "}\n",
       "#T_82069_row5_col6, #T_82069_row6_col5 {\n",
       "  background-color: #caddf0;\n",
       "  color: #000000;\n",
       "}\n",
       "#T_82069_row6_col0 {\n",
       "  background-color: #bcd7eb;\n",
       "  color: #000000;\n",
       "}\n",
       "#T_82069_row6_col1 {\n",
       "  background-color: #ebf3fb;\n",
       "  color: #000000;\n",
       "}\n",
       "#T_82069_row6_col2 {\n",
       "  background-color: #a4cce3;\n",
       "  color: #000000;\n",
       "}\n",
       "#T_82069_row6_col3 {\n",
       "  background-color: #c7dcef;\n",
       "  color: #000000;\n",
       "}\n",
       "#T_82069_row6_col4 {\n",
       "  background-color: #d5e5f4;\n",
       "  color: #000000;\n",
       "}\n",
       "</style>\n",
       "<table id=\"T_82069\">\n",
       "  <thead>\n",
       "    <tr>\n",
       "      <th class=\"blank level0\" >&nbsp;</th>\n",
       "      <th id=\"T_82069_level0_col0\" class=\"col_heading level0 col0\" >age</th>\n",
       "      <th id=\"T_82069_level0_col1\" class=\"col_heading level0 col1\" >work-fnl</th>\n",
       "      <th id=\"T_82069_level0_col2\" class=\"col_heading level0 col2\" >education-num</th>\n",
       "      <th id=\"T_82069_level0_col3\" class=\"col_heading level0 col3\" >capital-gain</th>\n",
       "      <th id=\"T_82069_level0_col4\" class=\"col_heading level0 col4\" >capital-loss</th>\n",
       "      <th id=\"T_82069_level0_col5\" class=\"col_heading level0 col5\" >hours-per-week</th>\n",
       "      <th id=\"T_82069_level0_col6\" class=\"col_heading level0 col6\" >salary</th>\n",
       "    </tr>\n",
       "  </thead>\n",
       "  <tbody>\n",
       "    <tr>\n",
       "      <th id=\"T_82069_level0_row0\" class=\"row_heading level0 row0\" >age</th>\n",
       "      <td id=\"T_82069_row0_col0\" class=\"data row0 col0\" >1.000000</td>\n",
       "      <td id=\"T_82069_row0_col1\" class=\"data row0 col1\" >-0.075942</td>\n",
       "      <td id=\"T_82069_row0_col2\" class=\"data row0 col2\" >0.029503</td>\n",
       "      <td id=\"T_82069_row0_col3\" class=\"data row0 col3\" >0.075623</td>\n",
       "      <td id=\"T_82069_row0_col4\" class=\"data row0 col4\" >0.052231</td>\n",
       "      <td id=\"T_82069_row0_col5\" class=\"data row0 col5\" >0.061304</td>\n",
       "      <td id=\"T_82069_row0_col6\" class=\"data row0 col6\" >0.227398</td>\n",
       "    </tr>\n",
       "    <tr>\n",
       "      <th id=\"T_82069_level0_row1\" class=\"row_heading level0 row1\" >work-fnl</th>\n",
       "      <td id=\"T_82069_row1_col0\" class=\"data row1 col0\" >-0.075942</td>\n",
       "      <td id=\"T_82069_row1_col1\" class=\"data row1 col1\" >1.000000</td>\n",
       "      <td id=\"T_82069_row1_col2\" class=\"data row1 col2\" >-0.041640</td>\n",
       "      <td id=\"T_82069_row1_col3\" class=\"data row1 col3\" >0.001790</td>\n",
       "      <td id=\"T_82069_row1_col4\" class=\"data row1 col4\" >-0.017367</td>\n",
       "      <td id=\"T_82069_row1_col5\" class=\"data row1 col5\" >-0.013148</td>\n",
       "      <td id=\"T_82069_row1_col6\" class=\"data row1 col6\" >-0.009500</td>\n",
       "    </tr>\n",
       "    <tr>\n",
       "      <th id=\"T_82069_level0_row2\" class=\"row_heading level0 row2\" >education-num</th>\n",
       "      <td id=\"T_82069_row2_col0\" class=\"data row2 col0\" >0.029503</td>\n",
       "      <td id=\"T_82069_row2_col1\" class=\"data row2 col1\" >-0.041640</td>\n",
       "      <td id=\"T_82069_row2_col2\" class=\"data row2 col2\" >1.000000</td>\n",
       "      <td id=\"T_82069_row2_col3\" class=\"data row2 col3\" >0.117265</td>\n",
       "      <td id=\"T_82069_row2_col4\" class=\"data row2 col4\" >0.077367</td>\n",
       "      <td id=\"T_82069_row2_col5\" class=\"data row2 col5\" >0.142762</td>\n",
       "      <td id=\"T_82069_row2_col6\" class=\"data row2 col6\" >0.329956</td>\n",
       "    </tr>\n",
       "    <tr>\n",
       "      <th id=\"T_82069_level0_row3\" class=\"row_heading level0 row3\" >capital-gain</th>\n",
       "      <td id=\"T_82069_row3_col0\" class=\"data row3 col0\" >0.075623</td>\n",
       "      <td id=\"T_82069_row3_col1\" class=\"data row3 col1\" >0.001790</td>\n",
       "      <td id=\"T_82069_row3_col2\" class=\"data row3 col2\" >0.117265</td>\n",
       "      <td id=\"T_82069_row3_col3\" class=\"data row3 col3\" >1.000000</td>\n",
       "      <td id=\"T_82069_row3_col4\" class=\"data row3 col4\" >-0.031263</td>\n",
       "      <td id=\"T_82069_row3_col5\" class=\"data row3 col5\" >0.074362</td>\n",
       "      <td id=\"T_82069_row3_col6\" class=\"data row3 col6\" >0.220680</td>\n",
       "    </tr>\n",
       "    <tr>\n",
       "      <th id=\"T_82069_level0_row4\" class=\"row_heading level0 row4\" >capital-loss</th>\n",
       "      <td id=\"T_82069_row4_col0\" class=\"data row4 col0\" >0.052231</td>\n",
       "      <td id=\"T_82069_row4_col1\" class=\"data row4 col1\" >-0.017367</td>\n",
       "      <td id=\"T_82069_row4_col2\" class=\"data row4 col2\" >0.077367</td>\n",
       "      <td id=\"T_82069_row4_col3\" class=\"data row4 col3\" >-0.031263</td>\n",
       "      <td id=\"T_82069_row4_col4\" class=\"data row4 col4\" >1.000000</td>\n",
       "      <td id=\"T_82069_row4_col5\" class=\"data row4 col5\" >0.055748</td>\n",
       "      <td id=\"T_82069_row4_col6\" class=\"data row4 col6\" >0.147719</td>\n",
       "    </tr>\n",
       "    <tr>\n",
       "      <th id=\"T_82069_level0_row5\" class=\"row_heading level0 row5\" >hours-per-week</th>\n",
       "      <td id=\"T_82069_row5_col0\" class=\"data row5 col0\" >0.061304</td>\n",
       "      <td id=\"T_82069_row5_col1\" class=\"data row5 col1\" >-0.013148</td>\n",
       "      <td id=\"T_82069_row5_col2\" class=\"data row5 col2\" >0.142762</td>\n",
       "      <td id=\"T_82069_row5_col3\" class=\"data row5 col3\" >0.074362</td>\n",
       "      <td id=\"T_82069_row5_col4\" class=\"data row5 col4\" >0.055748</td>\n",
       "      <td id=\"T_82069_row5_col5\" class=\"data row5 col5\" >1.000000</td>\n",
       "      <td id=\"T_82069_row5_col6\" class=\"data row5 col6\" >0.224161</td>\n",
       "    </tr>\n",
       "    <tr>\n",
       "      <th id=\"T_82069_level0_row6\" class=\"row_heading level0 row6\" >salary</th>\n",
       "      <td id=\"T_82069_row6_col0\" class=\"data row6 col0\" >0.227398</td>\n",
       "      <td id=\"T_82069_row6_col1\" class=\"data row6 col1\" >-0.009500</td>\n",
       "      <td id=\"T_82069_row6_col2\" class=\"data row6 col2\" >0.329956</td>\n",
       "      <td id=\"T_82069_row6_col3\" class=\"data row6 col3\" >0.220680</td>\n",
       "      <td id=\"T_82069_row6_col4\" class=\"data row6 col4\" >0.147719</td>\n",
       "      <td id=\"T_82069_row6_col5\" class=\"data row6 col5\" >0.224161</td>\n",
       "      <td id=\"T_82069_row6_col6\" class=\"data row6 col6\" >1.000000</td>\n",
       "    </tr>\n",
       "  </tbody>\n",
       "</table>\n"
      ],
      "text/plain": [
       "<pandas.io.formats.style.Styler at 0x17408669c00>"
      ]
     },
     "execution_count": 1930,
     "metadata": {},
     "output_type": "execute_result"
    }
   ],
   "source": [
    "df.corr().style.background_gradient(cmap=\"Blues\")"
   ]
  },
  {
   "attachments": {},
   "cell_type": "markdown",
   "metadata": {},
   "source": [
    "Dropping the almost zero correlation column 'work-fnl'"
   ]
  },
  {
   "cell_type": "code",
   "execution_count": 1931,
   "metadata": {},
   "outputs": [],
   "source": [
    "df.drop(['work-fnl'], axis = 1, inplace = True)"
   ]
  },
  {
   "cell_type": "code",
   "execution_count": 1932,
   "metadata": {
    "pycharm": {
     "name": "#%%\n"
    }
   },
   "outputs": [
    {
     "data": {
      "text/html": [
       "<div>\n",
       "<style scoped>\n",
       "    .dataframe tbody tr th:only-of-type {\n",
       "        vertical-align: middle;\n",
       "    }\n",
       "\n",
       "    .dataframe tbody tr th {\n",
       "        vertical-align: top;\n",
       "    }\n",
       "\n",
       "    .dataframe thead th {\n",
       "        text-align: right;\n",
       "    }\n",
       "</style>\n",
       "<table border=\"1\" class=\"dataframe\">\n",
       "  <thead>\n",
       "    <tr style=\"text-align: right;\">\n",
       "      <th></th>\n",
       "      <th>age</th>\n",
       "      <th>work-class</th>\n",
       "      <th>education</th>\n",
       "      <th>education-num</th>\n",
       "      <th>marital-status</th>\n",
       "      <th>position</th>\n",
       "      <th>relationship</th>\n",
       "      <th>race</th>\n",
       "      <th>sex</th>\n",
       "      <th>capital-gain</th>\n",
       "      <th>capital-loss</th>\n",
       "      <th>hours-per-week</th>\n",
       "      <th>native-country</th>\n",
       "      <th>salary</th>\n",
       "    </tr>\n",
       "  </thead>\n",
       "  <tbody>\n",
       "    <tr>\n",
       "      <th>0</th>\n",
       "      <td>39</td>\n",
       "      <td>State-gov</td>\n",
       "      <td>Bachelors</td>\n",
       "      <td>13</td>\n",
       "      <td>Never-married</td>\n",
       "      <td>Adm-clerical</td>\n",
       "      <td>Not-in-family</td>\n",
       "      <td>White</td>\n",
       "      <td>Male</td>\n",
       "      <td>2174</td>\n",
       "      <td>0</td>\n",
       "      <td>40</td>\n",
       "      <td>United-States</td>\n",
       "      <td>0</td>\n",
       "    </tr>\n",
       "    <tr>\n",
       "      <th>1</th>\n",
       "      <td>50</td>\n",
       "      <td>Self-emp-not-inc</td>\n",
       "      <td>Bachelors</td>\n",
       "      <td>13</td>\n",
       "      <td>Married-civ-spouse</td>\n",
       "      <td>Exec-managerial</td>\n",
       "      <td>Husband</td>\n",
       "      <td>White</td>\n",
       "      <td>Male</td>\n",
       "      <td>0</td>\n",
       "      <td>0</td>\n",
       "      <td>13</td>\n",
       "      <td>United-States</td>\n",
       "      <td>0</td>\n",
       "    </tr>\n",
       "    <tr>\n",
       "      <th>2</th>\n",
       "      <td>38</td>\n",
       "      <td>Private</td>\n",
       "      <td>HS-grad</td>\n",
       "      <td>9</td>\n",
       "      <td>Divorced</td>\n",
       "      <td>Handlers-cleaners</td>\n",
       "      <td>Not-in-family</td>\n",
       "      <td>White</td>\n",
       "      <td>Male</td>\n",
       "      <td>0</td>\n",
       "      <td>0</td>\n",
       "      <td>40</td>\n",
       "      <td>United-States</td>\n",
       "      <td>0</td>\n",
       "    </tr>\n",
       "    <tr>\n",
       "      <th>3</th>\n",
       "      <td>53</td>\n",
       "      <td>Private</td>\n",
       "      <td>11th</td>\n",
       "      <td>7</td>\n",
       "      <td>Married-civ-spouse</td>\n",
       "      <td>Handlers-cleaners</td>\n",
       "      <td>Husband</td>\n",
       "      <td>Black</td>\n",
       "      <td>Male</td>\n",
       "      <td>0</td>\n",
       "      <td>0</td>\n",
       "      <td>40</td>\n",
       "      <td>United-States</td>\n",
       "      <td>0</td>\n",
       "    </tr>\n",
       "    <tr>\n",
       "      <th>4</th>\n",
       "      <td>28</td>\n",
       "      <td>Private</td>\n",
       "      <td>Bachelors</td>\n",
       "      <td>13</td>\n",
       "      <td>Married-civ-spouse</td>\n",
       "      <td>Prof-specialty</td>\n",
       "      <td>Wife</td>\n",
       "      <td>Black</td>\n",
       "      <td>Female</td>\n",
       "      <td>0</td>\n",
       "      <td>0</td>\n",
       "      <td>40</td>\n",
       "      <td>Cuba</td>\n",
       "      <td>0</td>\n",
       "    </tr>\n",
       "  </tbody>\n",
       "</table>\n",
       "</div>"
      ],
      "text/plain": [
       "   age         work-class   education  education-num       marital-status  \\\n",
       "0   39          State-gov   Bachelors             13        Never-married   \n",
       "1   50   Self-emp-not-inc   Bachelors             13   Married-civ-spouse   \n",
       "2   38            Private     HS-grad              9             Divorced   \n",
       "3   53            Private        11th              7   Married-civ-spouse   \n",
       "4   28            Private   Bachelors             13   Married-civ-spouse   \n",
       "\n",
       "             position    relationship    race      sex  capital-gain  \\\n",
       "0        Adm-clerical   Not-in-family   White     Male          2174   \n",
       "1     Exec-managerial         Husband   White     Male             0   \n",
       "2   Handlers-cleaners   Not-in-family   White     Male             0   \n",
       "3   Handlers-cleaners         Husband   Black     Male             0   \n",
       "4      Prof-specialty            Wife   Black   Female             0   \n",
       "\n",
       "   capital-loss  hours-per-week  native-country  salary  \n",
       "0             0              40   United-States       0  \n",
       "1             0              13   United-States       0  \n",
       "2             0              40   United-States       0  \n",
       "3             0              40   United-States       0  \n",
       "4             0              40            Cuba       0  "
      ]
     },
     "execution_count": 1932,
     "metadata": {},
     "output_type": "execute_result"
    }
   ],
   "source": [
    "df.head()"
   ]
  },
  {
   "attachments": {},
   "cell_type": "markdown",
   "metadata": {},
   "source": [
    "Combining all school grades together"
   ]
  },
  {
   "cell_type": "code",
   "execution_count": 1933,
   "metadata": {},
   "outputs": [
    {
     "data": {
      "text/plain": [
       "array([' Bachelors', ' HS-grad', ' 11th', ' Masters', ' 9th',\n",
       "       ' Some-college', ' Assoc-acdm', ' Assoc-voc', ' 7th-8th',\n",
       "       ' Doctorate', ' Prof-school', ' 5th-6th', ' 10th', ' 1st-4th',\n",
       "       ' Preschool', ' 12th'], dtype=object)"
      ]
     },
     "execution_count": 1933,
     "metadata": {},
     "output_type": "execute_result"
    }
   ],
   "source": [
    "df['education'].unique()"
   ]
  },
  {
   "cell_type": "code",
   "execution_count": 1934,
   "metadata": {},
   "outputs": [
    {
     "data": {
      "text/plain": [
       " HS-grad         7422\n",
       " Some-college    5097\n",
       " Bachelors       3785\n",
       " School          2933\n",
       " Masters         1203\n",
       " Assoc-voc        962\n",
       " Assoc-acdm       720\n",
       " Prof-school      386\n",
       " Doctorate        284\n",
       "Name: education, dtype: int64"
      ]
     },
     "execution_count": 1934,
     "metadata": {},
     "output_type": "execute_result"
    }
   ],
   "source": [
    "df.drop(['education-num'], axis = 1, inplace = True)\n",
    "df['education'].replace([' 11th', ' 9th', ' 7th-8th', ' 5th-6th', ' 10th', ' 1st-4th', ' Preschool', ' 12th'],\n",
    "                             ' School', inplace = True)\n",
    "df['education'].value_counts()                             "
   ]
  },
  {
   "attachments": {},
   "cell_type": "markdown",
   "metadata": {},
   "source": [
    "Since majority of race is white, the rest of races can be combined together"
   ]
  },
  {
   "cell_type": "code",
   "execution_count": 1935,
   "metadata": {},
   "outputs": [
    {
     "data": {
      "text/plain": [
       "array([' White', ' Black', ' Asian-Pac-Islander', ' Amer-Indian-Eskimo',\n",
       "       ' Other'], dtype=object)"
      ]
     },
     "execution_count": 1935,
     "metadata": {},
     "output_type": "execute_result"
    }
   ],
   "source": [
    "df['race'].unique()"
   ]
  },
  {
   "cell_type": "code",
   "execution_count": 1936,
   "metadata": {},
   "outputs": [],
   "source": [
    "df['race'].replace([' Black', ' Asian-Pac-Islander', ' Amer-Indian-Eskimo', ' Other'],' Other', inplace = True)"
   ]
  },
  {
   "cell_type": "code",
   "execution_count": 1937,
   "metadata": {
    "pycharm": {
     "name": "#%%\n"
    }
   },
   "outputs": [
    {
     "data": {
      "text/html": [
       "<div>\n",
       "<style scoped>\n",
       "    .dataframe tbody tr th:only-of-type {\n",
       "        vertical-align: middle;\n",
       "    }\n",
       "\n",
       "    .dataframe tbody tr th {\n",
       "        vertical-align: top;\n",
       "    }\n",
       "\n",
       "    .dataframe thead th {\n",
       "        text-align: right;\n",
       "    }\n",
       "</style>\n",
       "<table border=\"1\" class=\"dataframe\">\n",
       "  <thead>\n",
       "    <tr style=\"text-align: right;\">\n",
       "      <th></th>\n",
       "      <th>count</th>\n",
       "      <th>mean</th>\n",
       "      <th>std</th>\n",
       "      <th>min</th>\n",
       "      <th>25%</th>\n",
       "      <th>50%</th>\n",
       "      <th>75%</th>\n",
       "      <th>max</th>\n",
       "    </tr>\n",
       "  </thead>\n",
       "  <tbody>\n",
       "    <tr>\n",
       "      <th>age</th>\n",
       "      <td>22792.0</td>\n",
       "      <td>38.593542</td>\n",
       "      <td>13.657228</td>\n",
       "      <td>17.0</td>\n",
       "      <td>28.0</td>\n",
       "      <td>37.0</td>\n",
       "      <td>48.0</td>\n",
       "      <td>90.0</td>\n",
       "    </tr>\n",
       "    <tr>\n",
       "      <th>capital-gain</th>\n",
       "      <td>22792.0</td>\n",
       "      <td>1061.232757</td>\n",
       "      <td>7342.691929</td>\n",
       "      <td>0.0</td>\n",
       "      <td>0.0</td>\n",
       "      <td>0.0</td>\n",
       "      <td>0.0</td>\n",
       "      <td>99999.0</td>\n",
       "    </tr>\n",
       "    <tr>\n",
       "      <th>capital-loss</th>\n",
       "      <td>22792.0</td>\n",
       "      <td>86.730037</td>\n",
       "      <td>400.970842</td>\n",
       "      <td>0.0</td>\n",
       "      <td>0.0</td>\n",
       "      <td>0.0</td>\n",
       "      <td>0.0</td>\n",
       "      <td>4356.0</td>\n",
       "    </tr>\n",
       "    <tr>\n",
       "      <th>hours-per-week</th>\n",
       "      <td>22792.0</td>\n",
       "      <td>40.409705</td>\n",
       "      <td>12.283072</td>\n",
       "      <td>1.0</td>\n",
       "      <td>40.0</td>\n",
       "      <td>40.0</td>\n",
       "      <td>45.0</td>\n",
       "      <td>99.0</td>\n",
       "    </tr>\n",
       "    <tr>\n",
       "      <th>salary</th>\n",
       "      <td>22792.0</td>\n",
       "      <td>0.238549</td>\n",
       "      <td>0.426206</td>\n",
       "      <td>0.0</td>\n",
       "      <td>0.0</td>\n",
       "      <td>0.0</td>\n",
       "      <td>0.0</td>\n",
       "      <td>1.0</td>\n",
       "    </tr>\n",
       "  </tbody>\n",
       "</table>\n",
       "</div>"
      ],
      "text/plain": [
       "                  count         mean          std   min   25%   50%   75%  \\\n",
       "age             22792.0    38.593542    13.657228  17.0  28.0  37.0  48.0   \n",
       "capital-gain    22792.0  1061.232757  7342.691929   0.0   0.0   0.0   0.0   \n",
       "capital-loss    22792.0    86.730037   400.970842   0.0   0.0   0.0   0.0   \n",
       "hours-per-week  22792.0    40.409705    12.283072   1.0  40.0  40.0  45.0   \n",
       "salary          22792.0     0.238549     0.426206   0.0   0.0   0.0   0.0   \n",
       "\n",
       "                    max  \n",
       "age                90.0  \n",
       "capital-gain    99999.0  \n",
       "capital-loss     4356.0  \n",
       "hours-per-week     99.0  \n",
       "salary              1.0  "
      ]
     },
     "execution_count": 1937,
     "metadata": {},
     "output_type": "execute_result"
    }
   ],
   "source": [
    "df.describe().T"
   ]
  },
  {
   "attachments": {},
   "cell_type": "markdown",
   "metadata": {},
   "source": [
    "Droping Duplicates"
   ]
  },
  {
   "cell_type": "code",
   "execution_count": 1938,
   "metadata": {
    "pycharm": {
     "name": "#%%\n"
    }
   },
   "outputs": [
    {
     "data": {
      "text/html": [
       "<div>\n",
       "<style scoped>\n",
       "    .dataframe tbody tr th:only-of-type {\n",
       "        vertical-align: middle;\n",
       "    }\n",
       "\n",
       "    .dataframe tbody tr th {\n",
       "        vertical-align: top;\n",
       "    }\n",
       "\n",
       "    .dataframe thead th {\n",
       "        text-align: right;\n",
       "    }\n",
       "</style>\n",
       "<table border=\"1\" class=\"dataframe\">\n",
       "  <thead>\n",
       "    <tr style=\"text-align: right;\">\n",
       "      <th></th>\n",
       "      <th>age</th>\n",
       "      <th>work-class</th>\n",
       "      <th>education</th>\n",
       "      <th>marital-status</th>\n",
       "      <th>position</th>\n",
       "      <th>relationship</th>\n",
       "      <th>race</th>\n",
       "      <th>sex</th>\n",
       "      <th>capital-gain</th>\n",
       "      <th>capital-loss</th>\n",
       "      <th>hours-per-week</th>\n",
       "      <th>native-country</th>\n",
       "      <th>salary</th>\n",
       "    </tr>\n",
       "  </thead>\n",
       "  <tbody>\n",
       "    <tr>\n",
       "      <th>0</th>\n",
       "      <td>39</td>\n",
       "      <td>State-gov</td>\n",
       "      <td>Bachelors</td>\n",
       "      <td>Never-married</td>\n",
       "      <td>Adm-clerical</td>\n",
       "      <td>Not-in-family</td>\n",
       "      <td>White</td>\n",
       "      <td>Male</td>\n",
       "      <td>2174</td>\n",
       "      <td>0</td>\n",
       "      <td>40</td>\n",
       "      <td>United-States</td>\n",
       "      <td>0</td>\n",
       "    </tr>\n",
       "    <tr>\n",
       "      <th>1</th>\n",
       "      <td>50</td>\n",
       "      <td>Self-emp-not-inc</td>\n",
       "      <td>Bachelors</td>\n",
       "      <td>Married-civ-spouse</td>\n",
       "      <td>Exec-managerial</td>\n",
       "      <td>Husband</td>\n",
       "      <td>White</td>\n",
       "      <td>Male</td>\n",
       "      <td>0</td>\n",
       "      <td>0</td>\n",
       "      <td>13</td>\n",
       "      <td>United-States</td>\n",
       "      <td>0</td>\n",
       "    </tr>\n",
       "    <tr>\n",
       "      <th>2</th>\n",
       "      <td>38</td>\n",
       "      <td>Private</td>\n",
       "      <td>HS-grad</td>\n",
       "      <td>Divorced</td>\n",
       "      <td>Handlers-cleaners</td>\n",
       "      <td>Not-in-family</td>\n",
       "      <td>White</td>\n",
       "      <td>Male</td>\n",
       "      <td>0</td>\n",
       "      <td>0</td>\n",
       "      <td>40</td>\n",
       "      <td>United-States</td>\n",
       "      <td>0</td>\n",
       "    </tr>\n",
       "    <tr>\n",
       "      <th>3</th>\n",
       "      <td>53</td>\n",
       "      <td>Private</td>\n",
       "      <td>School</td>\n",
       "      <td>Married-civ-spouse</td>\n",
       "      <td>Handlers-cleaners</td>\n",
       "      <td>Husband</td>\n",
       "      <td>Other</td>\n",
       "      <td>Male</td>\n",
       "      <td>0</td>\n",
       "      <td>0</td>\n",
       "      <td>40</td>\n",
       "      <td>United-States</td>\n",
       "      <td>0</td>\n",
       "    </tr>\n",
       "    <tr>\n",
       "      <th>4</th>\n",
       "      <td>28</td>\n",
       "      <td>Private</td>\n",
       "      <td>Bachelors</td>\n",
       "      <td>Married-civ-spouse</td>\n",
       "      <td>Prof-specialty</td>\n",
       "      <td>Wife</td>\n",
       "      <td>Other</td>\n",
       "      <td>Female</td>\n",
       "      <td>0</td>\n",
       "      <td>0</td>\n",
       "      <td>40</td>\n",
       "      <td>Cuba</td>\n",
       "      <td>0</td>\n",
       "    </tr>\n",
       "    <tr>\n",
       "      <th>...</th>\n",
       "      <td>...</td>\n",
       "      <td>...</td>\n",
       "      <td>...</td>\n",
       "      <td>...</td>\n",
       "      <td>...</td>\n",
       "      <td>...</td>\n",
       "      <td>...</td>\n",
       "      <td>...</td>\n",
       "      <td>...</td>\n",
       "      <td>...</td>\n",
       "      <td>...</td>\n",
       "      <td>...</td>\n",
       "      <td>...</td>\n",
       "    </tr>\n",
       "    <tr>\n",
       "      <th>22787</th>\n",
       "      <td>55</td>\n",
       "      <td>Federal-gov</td>\n",
       "      <td>Some-college</td>\n",
       "      <td>Married-civ-spouse</td>\n",
       "      <td>Adm-clerical</td>\n",
       "      <td>Husband</td>\n",
       "      <td>White</td>\n",
       "      <td>Male</td>\n",
       "      <td>0</td>\n",
       "      <td>0</td>\n",
       "      <td>40</td>\n",
       "      <td>United-States</td>\n",
       "      <td>0</td>\n",
       "    </tr>\n",
       "    <tr>\n",
       "      <th>22788</th>\n",
       "      <td>21</td>\n",
       "      <td>Private</td>\n",
       "      <td>Some-college</td>\n",
       "      <td>Never-married</td>\n",
       "      <td>Other-service</td>\n",
       "      <td>Own-child</td>\n",
       "      <td>White</td>\n",
       "      <td>Female</td>\n",
       "      <td>0</td>\n",
       "      <td>0</td>\n",
       "      <td>29</td>\n",
       "      <td>United-States</td>\n",
       "      <td>0</td>\n",
       "    </tr>\n",
       "    <tr>\n",
       "      <th>22789</th>\n",
       "      <td>35</td>\n",
       "      <td>Private</td>\n",
       "      <td>Some-college</td>\n",
       "      <td>Never-married</td>\n",
       "      <td>Transport-moving</td>\n",
       "      <td>Own-child</td>\n",
       "      <td>White</td>\n",
       "      <td>Male</td>\n",
       "      <td>0</td>\n",
       "      <td>0</td>\n",
       "      <td>40</td>\n",
       "      <td>United-States</td>\n",
       "      <td>0</td>\n",
       "    </tr>\n",
       "    <tr>\n",
       "      <th>22790</th>\n",
       "      <td>31</td>\n",
       "      <td>Self-emp-not-inc</td>\n",
       "      <td>School</td>\n",
       "      <td>Married-civ-spouse</td>\n",
       "      <td>Sales</td>\n",
       "      <td>Wife</td>\n",
       "      <td>Other</td>\n",
       "      <td>Female</td>\n",
       "      <td>0</td>\n",
       "      <td>0</td>\n",
       "      <td>50</td>\n",
       "      <td>United-States</td>\n",
       "      <td>0</td>\n",
       "    </tr>\n",
       "    <tr>\n",
       "      <th>22791</th>\n",
       "      <td>39</td>\n",
       "      <td>Self-emp-inc</td>\n",
       "      <td>Masters</td>\n",
       "      <td>Married-civ-spouse</td>\n",
       "      <td>Exec-managerial</td>\n",
       "      <td>Husband</td>\n",
       "      <td>White</td>\n",
       "      <td>Male</td>\n",
       "      <td>0</td>\n",
       "      <td>0</td>\n",
       "      <td>60</td>\n",
       "      <td>United-States</td>\n",
       "      <td>1</td>\n",
       "    </tr>\n",
       "  </tbody>\n",
       "</table>\n",
       "<p>20712 rows × 13 columns</p>\n",
       "</div>"
      ],
      "text/plain": [
       "       age         work-class      education       marital-status  \\\n",
       "0       39          State-gov      Bachelors        Never-married   \n",
       "1       50   Self-emp-not-inc      Bachelors   Married-civ-spouse   \n",
       "2       38            Private        HS-grad             Divorced   \n",
       "3       53            Private         School   Married-civ-spouse   \n",
       "4       28            Private      Bachelors   Married-civ-spouse   \n",
       "...    ...                ...            ...                  ...   \n",
       "22787   55        Federal-gov   Some-college   Married-civ-spouse   \n",
       "22788   21            Private   Some-college        Never-married   \n",
       "22789   35            Private   Some-college        Never-married   \n",
       "22790   31   Self-emp-not-inc         School   Married-civ-spouse   \n",
       "22791   39       Self-emp-inc        Masters   Married-civ-spouse   \n",
       "\n",
       "                 position    relationship    race      sex  capital-gain  \\\n",
       "0            Adm-clerical   Not-in-family   White     Male          2174   \n",
       "1         Exec-managerial         Husband   White     Male             0   \n",
       "2       Handlers-cleaners   Not-in-family   White     Male             0   \n",
       "3       Handlers-cleaners         Husband   Other     Male             0   \n",
       "4          Prof-specialty            Wife   Other   Female             0   \n",
       "...                   ...             ...     ...      ...           ...   \n",
       "22787        Adm-clerical         Husband   White     Male             0   \n",
       "22788       Other-service       Own-child   White   Female             0   \n",
       "22789    Transport-moving       Own-child   White     Male             0   \n",
       "22790               Sales            Wife   Other   Female             0   \n",
       "22791     Exec-managerial         Husband   White     Male             0   \n",
       "\n",
       "       capital-loss  hours-per-week  native-country  salary  \n",
       "0                 0              40   United-States       0  \n",
       "1                 0              13   United-States       0  \n",
       "2                 0              40   United-States       0  \n",
       "3                 0              40   United-States       0  \n",
       "4                 0              40            Cuba       0  \n",
       "...             ...             ...             ...     ...  \n",
       "22787             0              40   United-States       0  \n",
       "22788             0              29   United-States       0  \n",
       "22789             0              40   United-States       0  \n",
       "22790             0              50   United-States       0  \n",
       "22791             0              60   United-States       1  \n",
       "\n",
       "[20712 rows x 13 columns]"
      ]
     },
     "execution_count": 1938,
     "metadata": {},
     "output_type": "execute_result"
    }
   ],
   "source": [
    "df.drop_duplicates()"
   ]
  },
  {
   "attachments": {},
   "cell_type": "markdown",
   "metadata": {},
   "source": [
    "Distributing data using histogram"
   ]
  },
  {
   "cell_type": "code",
   "execution_count": 1939,
   "metadata": {
    "pycharm": {
     "name": "#%%\n"
    }
   },
   "outputs": [
    {
     "data": {
      "image/png": "[encoded data removed]",
      "text/plain": [
       "<Figure size 2000x1500 with 6 Axes>"
      ]
     },
     "metadata": {},
     "output_type": "display_data"
    },
    {
     "data": {
      "text/plain": [
       "<Figure size 640x480 with 0 Axes>"
      ]
     },
     "metadata": {},
     "output_type": "display_data"
    }
   ],
   "source": [
    "df.hist(figsize= [20,15])\n",
    "plt.show()\n",
    "plt.tight_layout()"
   ]
  },
  {
   "attachments": {},
   "cell_type": "markdown",
   "metadata": {},
   "source": [
    "Splitting the data into test data and training data"
   ]
  },
  {
   "cell_type": "code",
   "execution_count": 1940,
   "metadata": {},
   "outputs": [],
   "source": [
    "x = df.drop(['salary'], axis=1)\n",
    "y = df['salary']"
   ]
  },
  {
   "cell_type": "code",
   "execution_count": 1941,
   "metadata": {},
   "outputs": [],
   "source": [
    "x_train, x_test, y_train, y_test = train_test_split(x, y, test_size = 0.3, random_state = 1)"
   ]
  },
  {
   "attachments": {},
   "cell_type": "markdown",
   "metadata": {},
   "source": [
    "Converting Object datatype columns to float using label encoder"
   ]
  },
  {
   "cell_type": "code",
   "execution_count": 1942,
   "metadata": {},
   "outputs": [],
   "source": [
    "categorical = ['work-class','education', 'marital-status', 'position', 'relationship','race', 'sex','native-country']\n",
    "for i in categorical:\n",
    "        le = preprocessing.LabelEncoder()\n",
    "        x_train[i] = le.fit_transform(x_train[i])\n",
    "        x_test[i] = le.transform(x_test[i])\n"
   ]
  },
  {
   "attachments": {},
   "cell_type": "markdown",
   "metadata": {},
   "source": [
    "Scaling data using Standrad Scaler"
   ]
  },
  {
   "cell_type": "code",
   "execution_count": 1943,
   "metadata": {},
   "outputs": [],
   "source": [
    "scaler = StandardScaler()\n",
    "x_train = pd.DataFrame(scaler.fit_transform(x_train), columns = x.columns)\n",
    "x_test = pd.DataFrame(scaler.transform(x_test), columns = x.columns)"
   ]
  },
  {
   "attachments": {},
   "cell_type": "markdown",
   "metadata": {},
   "source": [
    "Applying models"
   ]
  },
  {
   "cell_type": "code",
   "execution_count": 1944,
   "metadata": {
    "pycharm": {
     "name": "#%%\n"
    }
   },
   "outputs": [],
   "source": [
    "LR = LogisticRegression(solver = \"liblinear\")\n",
    "DTC = DecisionTreeClassifier()\n",
    "xgb = xgb.XGBClassifier(learining_rate = 0.1, n_estimators = 10,colsample_bytree = 0.3,max_depth = 5 ,alpha =10)\n",
    "lgb = LGBMClassifier()\n",
    "knn = KNeighborsClassifier(n_neighbors=1)\n",
    "nvb = GaussianNB()\n",
    "ada=AdaBoostClassifier()"
   ]
  },
  {
   "cell_type": "code",
   "execution_count": 1945,
   "metadata": {
    "pycharm": {
     "name": "#%%\n"
    }
   },
   "outputs": [
    {
     "name": "stdout",
     "output_type": "stream",
     "text": [
      "knn:\n",
      "Accuracy score: 97.87\n"
     ]
    }
   ],
   "source": [
    "knn.fit(x_train,y_train)\n",
    "output = knn.predict(x_test)\n",
    "print(\"knn:\")\n",
    "print('Accuracy score:', round(knn.score(x_train, y_train) * 100, 2))"
   ]
  },
  {
   "cell_type": "code",
   "execution_count": 1946,
   "metadata": {
    "pycharm": {
     "name": "#%%\n"
    }
   },
   "outputs": [
    {
     "name": "stdout",
     "output_type": "stream",
     "text": [
      "nvb:\n",
      "Accuracy score: 79.64\n"
     ]
    }
   ],
   "source": [
    "nvb.fit(x_train,y_train)\n",
    "output = nvb.predict(x_test)\n",
    "print(\"nvb:\")\n",
    "print('Accuracy score:', round(nvb.score(x_train, y_train) * 100, 2))"
   ]
  },
  {
   "cell_type": "code",
   "execution_count": 1947,
   "metadata": {
    "pycharm": {
     "name": "#%%\n"
    }
   },
   "outputs": [
    {
     "name": "stdout",
     "output_type": "stream",
     "text": [
      "[02:44:05] WARNING: C:/buildkite-agent/builds/buildkite-windows-cpu-autoscaling-group-i-030221e36e1a46bfb-1/xgboost/xgboost-ci-windows/src/learner.cc:767: \n",
      "Parameters: { \"learining_rate\" } are not used.\n",
      "\n",
      "xgb:\n",
      "Accuracy score: 85.16\n"
     ]
    }
   ],
   "source": [
    "xgb.fit(x_train,y_train)\n",
    "output = xgb.predict(x_test)\n",
    "print(\"xgb:\")\n",
    "print('Accuracy score:', round(xgb.score(x_train, y_train) * 100, 2))"
   ]
  },
  {
   "cell_type": "code",
   "execution_count": 1948,
   "metadata": {
    "pycharm": {
     "name": "#%%\n"
    }
   },
   "outputs": [
    {
     "name": "stdout",
     "output_type": "stream",
     "text": [
      "lgb:\n",
      "Accuracy score: 89.19\n"
     ]
    }
   ],
   "source": [
    "\n",
    "lgb.fit(x_train,y_train)\n",
    "output = lgb.predict(x_test)\n",
    "print(\"lgb:\")\n",
    "print('Accuracy score:', round(lgb.score(x_train, y_train) * 100, 2))"
   ]
  },
  {
   "cell_type": "code",
   "execution_count": 1949,
   "metadata": {
    "pycharm": {
     "name": "#%%\n"
    }
   },
   "outputs": [
    {
     "name": "stdout",
     "output_type": "stream",
     "text": [
      "Logistic Regression:\n",
      "Accuracy score: 80.38\n"
     ]
    }
   ],
   "source": [
    "LR.fit(x_train,y_train)\n",
    "output = LR.predict(x_test)\n",
    "print(\"Logistic Regression:\")\n",
    "print('Accuracy score:', round(LR.score(x_train, y_train) * 100, 2))"
   ]
  },
  {
   "cell_type": "code",
   "execution_count": 1950,
   "metadata": {
    "pycharm": {
     "name": "#%%\n"
    }
   },
   "outputs": [
    {
     "name": "stdout",
     "output_type": "stream",
     "text": [
      "DecisionTreeClassifier:\n",
      "Accuracy score: 98.13\n"
     ]
    }
   ],
   "source": [
    "DTC.fit(x_train,y_train)\n",
    "output2 = DTC.predict(x_test)\n",
    "print(\"DecisionTreeClassifier:\")\n",
    "print('Accuracy score:', round(DTC.score(x_train, y_train) * 100, 2))"
   ]
  },
  {
   "cell_type": "code",
   "execution_count": 1951,
   "metadata": {
    "pycharm": {
     "name": "#%%\n"
    }
   },
   "outputs": [
    {
     "name": "stdout",
     "output_type": "stream",
     "text": [
      "RandomForestClassifier:\n",
      "Accuracy score: 98.13\n"
     ]
    }
   ],
   "source": [
    "RFC.fit(x_train,y_train)\n",
    "output3 = RFC.predict(x_test)\n",
    "print(\"RandomForestClassifier:\")\n",
    "print('Accuracy score:', round(RFC.score(x_train, y_train) * 100, 2))"
   ]
  },
  {
   "cell_type": "code",
   "execution_count": 1952,
   "metadata": {
    "pycharm": {
     "name": "#%%\n"
    }
   },
   "outputs": [
    {
     "name": "stdout",
     "output_type": "stream",
     "text": [
      "AdaBoostClassifier:\n",
      "Accuracy score: 85.92\n"
     ]
    }
   ],
   "source": [
    "ada.fit(x_train,y_train)\n",
    "output3 = ada.predict(x_test)\n",
    "print(\"AdaBoostClassifier:\")\n",
    "print('Accuracy score:', round(ada.score(x_train, y_train) * 100, 2))"
   ]
  },
  {
   "cell_type": "code",
   "execution_count": 1953,
   "metadata": {
    "pycharm": {
     "name": "#%%\n"
    }
   },
   "outputs": [
    {
     "ename": "ValueError",
     "evalue": "Shape of passed values is (12, 1), indices imply (12, 12)",
     "output_type": "error",
     "traceback": [
      "\u001b[1;31m---------------------------------------------------------------------------\u001b[0m",
      "\u001b[1;31mValueError\u001b[0m                                Traceback (most recent call last)",
      "Cell \u001b[1;32mIn [1953], line 29\u001b[0m\n\u001b[0;32m     27\u001b[0m \u001b[39mfor\u001b[39;00m i \u001b[39min\u001b[39;00m categorical:\n\u001b[0;32m     28\u001b[0m         d[i] \u001b[39m=\u001b[39m le\u001b[39m.\u001b[39mfit_transform(d[i])\n\u001b[1;32m---> 29\u001b[0m scaled_features \u001b[39m=\u001b[39m pd\u001b[39m.\u001b[39;49mDataFrame(features, columns \u001b[39m=\u001b[39;49m features)\n\u001b[0;32m     30\u001b[0m features \u001b[39m=\u001b[39m scaled_features[features]\n\u001b[0;32m     31\u001b[0m scaler \u001b[39m=\u001b[39m StandardScaler()\u001b[39m.\u001b[39mfit(features\u001b[39m.\u001b[39mvalues)\n",
      "File \u001b[1;32mc:\\Users\\H\\AppData\\Local\\Programs\\Python\\Python310\\lib\\site-packages\\pandas\\core\\frame.py:760\u001b[0m, in \u001b[0;36mDataFrame.__init__\u001b[1;34m(self, data, index, columns, dtype, copy)\u001b[0m\n\u001b[0;32m    752\u001b[0m         mgr \u001b[39m=\u001b[39m arrays_to_mgr(\n\u001b[0;32m    753\u001b[0m             arrays,\n\u001b[0;32m    754\u001b[0m             columns,\n\u001b[1;32m   (...)\u001b[0m\n\u001b[0;32m    757\u001b[0m             typ\u001b[39m=\u001b[39mmanager,\n\u001b[0;32m    758\u001b[0m         )\n\u001b[0;32m    759\u001b[0m     \u001b[39melse\u001b[39;00m:\n\u001b[1;32m--> 760\u001b[0m         mgr \u001b[39m=\u001b[39m ndarray_to_mgr(\n\u001b[0;32m    761\u001b[0m             data,\n\u001b[0;32m    762\u001b[0m             index,\n\u001b[0;32m    763\u001b[0m             columns,\n\u001b[0;32m    764\u001b[0m             dtype\u001b[39m=\u001b[39;49mdtype,\n\u001b[0;32m    765\u001b[0m             copy\u001b[39m=\u001b[39;49mcopy,\n\u001b[0;32m    766\u001b[0m             typ\u001b[39m=\u001b[39;49mmanager,\n\u001b[0;32m    767\u001b[0m         )\n\u001b[0;32m    768\u001b[0m \u001b[39melse\u001b[39;00m:\n\u001b[0;32m    769\u001b[0m     mgr \u001b[39m=\u001b[39m dict_to_mgr(\n\u001b[0;32m    770\u001b[0m         {},\n\u001b[0;32m    771\u001b[0m         index,\n\u001b[1;32m   (...)\u001b[0m\n\u001b[0;32m    774\u001b[0m         typ\u001b[39m=\u001b[39mmanager,\n\u001b[0;32m    775\u001b[0m     )\n",
      "File \u001b[1;32mc:\\Users\\H\\AppData\\Local\\Programs\\Python\\Python310\\lib\\site-packages\\pandas\\core\\internals\\construction.py:349\u001b[0m, in \u001b[0;36mndarray_to_mgr\u001b[1;34m(values, index, columns, dtype, copy, typ)\u001b[0m\n\u001b[0;32m    344\u001b[0m \u001b[39m# _prep_ndarraylike ensures that values.ndim == 2 at this point\u001b[39;00m\n\u001b[0;32m    345\u001b[0m index, columns \u001b[39m=\u001b[39m _get_axes(\n\u001b[0;32m    346\u001b[0m     values\u001b[39m.\u001b[39mshape[\u001b[39m0\u001b[39m], values\u001b[39m.\u001b[39mshape[\u001b[39m1\u001b[39m], index\u001b[39m=\u001b[39mindex, columns\u001b[39m=\u001b[39mcolumns\n\u001b[0;32m    347\u001b[0m )\n\u001b[1;32m--> 349\u001b[0m _check_values_indices_shape_match(values, index, columns)\n\u001b[0;32m    351\u001b[0m \u001b[39mif\u001b[39;00m typ \u001b[39m==\u001b[39m \u001b[39m\"\u001b[39m\u001b[39marray\u001b[39m\u001b[39m\"\u001b[39m:\n\u001b[0;32m    353\u001b[0m     \u001b[39mif\u001b[39;00m \u001b[39missubclass\u001b[39m(values\u001b[39m.\u001b[39mdtype\u001b[39m.\u001b[39mtype, \u001b[39mstr\u001b[39m):\n",
      "File \u001b[1;32mc:\\Users\\H\\AppData\\Local\\Programs\\Python\\Python310\\lib\\site-packages\\pandas\\core\\internals\\construction.py:420\u001b[0m, in \u001b[0;36m_check_values_indices_shape_match\u001b[1;34m(values, index, columns)\u001b[0m\n\u001b[0;32m    418\u001b[0m passed \u001b[39m=\u001b[39m values\u001b[39m.\u001b[39mshape\n\u001b[0;32m    419\u001b[0m implied \u001b[39m=\u001b[39m (\u001b[39mlen\u001b[39m(index), \u001b[39mlen\u001b[39m(columns))\n\u001b[1;32m--> 420\u001b[0m \u001b[39mraise\u001b[39;00m \u001b[39mValueError\u001b[39;00m(\u001b[39mf\u001b[39m\u001b[39m\"\u001b[39m\u001b[39mShape of passed values is \u001b[39m\u001b[39m{\u001b[39;00mpassed\u001b[39m}\u001b[39;00m\u001b[39m, indices imply \u001b[39m\u001b[39m{\u001b[39;00mimplied\u001b[39m}\u001b[39;00m\u001b[39m\"\u001b[39m)\n",
      "\u001b[1;31mValueError\u001b[0m: Shape of passed values is (12, 1), indices imply (12, 12)"
     ]
    }
   ],
   "source": [
    "d = pd.read_csv('test.csv')\n",
    "\n",
    "d.rename(columns = {'fnlwgt':'work-fnl'}, inplace = True)\n",
    "d.rename(columns = {'workclass':'work-class'}, inplace = True)\n",
    "d.rename(columns = {'occupation':'position'}, inplace = True)\n",
    "\n",
    "d=d.replace(' ?',np.nan)\n",
    "\n",
    "d['native-country'] = d['native-country'].fillna('United-States')\n",
    "d['work-class'] = d['work-class'].fillna('Private')\n",
    "d['position'] = d['position'].fillna('Prof-specialty')\n",
    "\n",
    "d.drop(['work-fnl'], axis = 1, inplace = True)\n",
    "d.drop(['education-num'], axis = 1, inplace = True)\n",
    "\n",
    "d['education'].replace([' 11th', ' 9th', ' 7th-8th', ' 5th-6th', ' 10th', ' 1st-4th', ' Preschool', ' 12th'],\n",
    "                             ' School', inplace = True)\n",
    "d['race'].replace([' Black', ' Asian-Pac-Islander', ' Amer-Indian-Eskimo', ' Other'],' Other', inplace = True)\n",
    "\n",
    "countries = np.array(df['native-country'].unique())\n",
    "countries = np.delete(countries, 0)\n",
    "#===============================================================================\n",
    "features=['age', 'work-class', 'education', 'marital-status', 'position',\n",
    "       'relationship', 'race', 'sex', 'capital-gain', 'capital-loss',\n",
    "       'hours-per-week', 'native-country']  \n",
    "categorical = ['work-class','education', 'marital-status', 'position', 'relationship','race', 'sex','native-country']\n",
    "for i in categorical:\n",
    "        d[i] = le.fit_transform(d[i])\n",
    "scaled_features = pd.DataFrame(features, columns = features)\n",
    "features = scaled_features[features]\n",
    "scaler = StandardScaler().fit(features.values)\n",
    "features = scaler.transform(features.values)\n",
    "#==========================================================================\n",
    "test_x = d[features]       \n",
    "test_pred = RFC.predict(test_x)       \n",
    "#csv\n",
    "out = pd.DataFrame({'index':d.index,'salary':test_pred})\n",
    "out['salary'].replace({1:' >50K', 0:' <=50K'},inplace=True)\n",
    "out.to_csv('sample_submission.csv',index = False)"
   ]
  },
  {
   "cell_type": "code",
   "execution_count": null,
   "metadata": {},
   "outputs": [],
   "source": []
  }
 ],
 "metadata": {
  "kernelspec": {
   "display_name": "Python 3.10.6 64-bit",
   "language": "python",
   "name": "python3"
  },
  "language_info": {
   "codemirror_mode": {
    "name": "ipython",
    "version": 3
   },
   "file_extension": ".py",
   "mimetype": "text/x-python",
   "name": "python",
   "nbconvert_exporter": "python",
   "pygments_lexer": "ipython3",
   "version": "3.10.6"
  },
  "orig_nbformat": 4,
  "vscode": {
   "interpreter": {
    "hash": "1d9dfaa829397320d99b9fc70b5bd4354ad8c4a3f1a075ae715bd798f09ec086"
   }
  }
 },
 "nbformat": 4,
 "nbformat_minor": 2
}
